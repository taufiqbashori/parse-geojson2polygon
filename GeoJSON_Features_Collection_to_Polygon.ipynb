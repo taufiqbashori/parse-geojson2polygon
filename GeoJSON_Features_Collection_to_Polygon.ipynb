{
  "nbformat": 4,
  "nbformat_minor": 0,
  "metadata": {
    "colab": {
      "name": "GeoJSON Features Collection to Polygon.ipynb",
      "provenance": []
    },
    "kernelspec": {
      "name": "python3",
      "display_name": "Python 3"
    },
    "language_info": {
      "name": "python"
    }
  },
  "cells": [
    {
      "cell_type": "code",
      "metadata": {
        "id": "C_gEUSWckqKP"
      },
      "source": [
        "import json"
      ],
      "execution_count": 15,
      "outputs": []
    },
    {
      "cell_type": "code",
      "metadata": {
        "id": "Q5y3X8wv-5Ew"
      },
      "source": [
        "results = \"\"\"\n",
        "{\n",
        "  \"type\": \"FeatureCollection\",\n",
        "  \"features\": [\n",
        "    {\n",
        "      \"type\": \"Feature\",\n",
        "      \"properties\": {},\n",
        "      \"geometry\": {\n",
        "        \"type\": \"Polygon\",\n",
        "        \"coordinates\": [\n",
        "          [\n",
        "            [\n",
        "              106.82242870330809,\n",
        "              -6.1709343255146845\n",
        "            ],\n",
        "            [\n",
        "              106.82217121124268,\n",
        "              -6.181131563045953\n",
        "            ],\n",
        "            [\n",
        "              106.8327283859253,\n",
        "              -6.180790236097018\n",
        "            ],\n",
        "            [\n",
        "              106.82989597320557,\n",
        "              -6.170891658836403\n",
        "            ],\n",
        "            [\n",
        "              106.82242870330809,\n",
        "              -6.1709343255146845\n",
        "            ]\n",
        "          ]\n",
        "        ]\n",
        "      }\n",
        "    }\n",
        "  ]\n",
        "}\n",
        "\"\"\""
      ],
      "execution_count": 16,
      "outputs": []
    },
    {
      "cell_type": "code",
      "metadata": {
        "colab": {
          "base_uri": "https://localhost:8080/"
        },
        "id": "v3E8FWWuIARE",
        "outputId": "f38a7a9b-f055-4b7f-8d00-5641acd0e4c6"
      },
      "source": [
        "x = json.loads(results)\n",
        "\n",
        "print(\"--- STEP a: Check keys within original json result ---\")\n",
        "\n",
        "print(type(x))\n",
        "print(x.keys())\n",
        "print(\"\")\n",
        "\n",
        "print(\"--- STEP b: Check keys within 'features' key ---\")\n",
        "\n",
        "x.keys()\n",
        "x1 = x['features']\n",
        "print(type(x1))\n",
        "print(x1[0])\n",
        "print(x1[0].keys())\n",
        "print(\"\")\n",
        "\n",
        "print(\"--- STEP c: Check keys within 'properties' key ---\")\n",
        "x2 = x1[0]['properties']\n",
        "print(type(x2))\n",
        "print(x2.keys())\n",
        "print(\"\")\n",
        "\n",
        "print(\"--- STEP d: Check within 'geometry' key ---\")\n",
        "x3 = x1[0]['geometry']\n",
        "print(type(x3))\n",
        "print(x3)\n",
        "print(\"\")\n"
      ],
      "execution_count": 17,
      "outputs": [
        {
          "output_type": "stream",
          "text": [
            "--- STEP a: Check keys within original json result ---\n",
            "<class 'dict'>\n",
            "dict_keys(['type', 'features'])\n",
            "\n",
            "--- STEP b: Check keys within 'features' key ---\n",
            "<class 'list'>\n",
            "{'type': 'Feature', 'properties': {}, 'geometry': {'type': 'Polygon', 'coordinates': [[[106.82242870330809, -6.1709343255146845], [106.82217121124268, -6.181131563045953], [106.8327283859253, -6.180790236097018], [106.82989597320557, -6.170891658836403], [106.82242870330809, -6.1709343255146845]]]}}\n",
            "dict_keys(['type', 'properties', 'geometry'])\n",
            "\n",
            "--- STEP c: Check keys within 'properties' key ---\n",
            "<class 'dict'>\n",
            "dict_keys([])\n",
            "\n",
            "--- STEP d: Check within 'geometry' key ---\n",
            "<class 'dict'>\n",
            "{'type': 'Polygon', 'coordinates': [[[106.82242870330809, -6.1709343255146845], [106.82217121124268, -6.181131563045953], [106.8327283859253, -6.180790236097018], [106.82989597320557, -6.170891658836403], [106.82242870330809, -6.1709343255146845]]]}\n",
            "\n"
          ],
          "name": "stdout"
        }
      ]
    },
    {
      "cell_type": "code",
      "metadata": {
        "colab": {
          "base_uri": "https://localhost:8080/"
        },
        "id": "TO8iMiCPRutj",
        "outputId": "932f6034-1927-4a34-b211-7950fd3b67ee"
      },
      "source": [
        "print(\"--- Retrieve nested data by keys & change 'coordinates' value to polygon ---\")\n",
        "print(\"\")\n",
        "\n",
        "for k,v in x3.items():\n",
        "  if k =='coordinates':\n",
        "    for a in v:\n",
        "      for b,c in enumerate(a):\n",
        "        a[b] = str(c).replace(\",\",\"\")\n",
        "      a[:] = [\",\".join(a[:])]\n",
        "\n",
        "new_dict = {k: \"POLYGON((\"+str(l).replace(\"'\",\"\").replace(\"[\",\"\").replace(\"]\",\"\")+\"))\" for k,l in x3.items() if k=='coordinates'}  \n",
        "new_dict\n"
      ],
      "execution_count": 18,
      "outputs": [
        {
          "output_type": "stream",
          "text": [
            "--- Retrieve nested data by keys & change 'coordinates' value to polygon ---\n",
            "\n"
          ],
          "name": "stdout"
        },
        {
          "output_type": "execute_result",
          "data": {
            "text/plain": [
              "{'coordinates': 'POLYGON((106.82242870330809 -6.1709343255146845,106.82217121124268 -6.181131563045953,106.8327283859253 -6.180790236097018,106.82989597320557 -6.170891658836403,106.82242870330809 -6.1709343255146845))'}"
            ]
          },
          "metadata": {
            "tags": []
          },
          "execution_count": 18
        }
      ]
    }
  ]
}